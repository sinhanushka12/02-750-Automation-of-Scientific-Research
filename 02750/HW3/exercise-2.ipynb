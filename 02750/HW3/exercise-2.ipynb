{
 "cells": [
  {
   "cell_type": "markdown",
   "metadata": {},
   "source": [
    "# 02-750 HW 3 \n",
    "## Exercise 1\n",
    "### Anushka Sinha (anushka3)"
   ]
  },
  {
   "cell_type": "markdown",
   "metadata": {},
   "source": [
    "### Imports"
   ]
  },
  {
   "cell_type": "code",
   "execution_count": 39,
   "metadata": {
    "ExecuteTime": {
     "end_time": "2024-03-20T03:20:43.892794Z",
     "start_time": "2024-03-20T03:20:43.888616Z"
    }
   },
   "outputs": [],
   "source": [
    "import pandas as pd \n",
    "import numpy as np\n",
    "import math\n",
    "import copy\n",
    "from sklearn.ensemble import RandomForestClassifier\n",
    "from sklearn.model_selection import KFold\n",
    "from sklearn.model_selection import train_test_split\n",
    "from sklearn.metrics import accuracy_score\n",
    "from sklearn.utils import shuffle\n",
    "import random\n",
    "from tqdm import tqdm\n",
    "from numpy import savetxt"
   ]
  },
  {
   "cell_type": "markdown",
   "metadata": {},
   "source": [
    "### Data"
   ]
  },
  {
   "cell_type": "code",
   "execution_count": 40,
   "metadata": {
    "ExecuteTime": {
     "end_time": "2024-03-20T03:20:43.929942Z",
     "start_time": "2024-03-20T03:20:43.894395Z"
    }
   },
   "outputs": [],
   "source": [
    "data = pd.read_csv(\"ex2_data.csv\")\n",
    "data_array = data.to_numpy()\n",
    "features = (data.iloc[:,:-1]).to_numpy()\n",
    "labels = (data.iloc[:, -1]).to_numpy()\n"
   ]
  },
  {
   "cell_type": "code",
   "execution_count": 41,
   "metadata": {
    "ExecuteTime": {
     "end_time": "2024-03-20T03:20:43.963523Z",
     "start_time": "2024-03-20T03:20:43.952016Z"
    }
   },
   "outputs": [
    {
     "data": {
      "text/plain": [
       "[50, 19, 6, 77, 40, 60, 34, 22, 86, 80]"
      ]
     },
     "execution_count": 41,
     "metadata": {},
     "output_type": "execute_result"
    }
   ],
   "source": [
    "random_seeds = []\n",
    "for i in range(10):\n",
    "    random.seed(100*i)\n",
    "    random_seeds.append(random.randint(1, 100))\n",
    "random_seeds"
   ]
  },
  {
   "cell_type": "markdown",
   "metadata": {},
   "source": [
    "### 2a. Implement ONE of the following three Type II algorithms (ZLG, DH, or PLAL)\n",
    "### Below is an implementation of the ZLG algorithm"
   ]
  },
  {
   "cell_type": "code",
   "execution_count": 42,
   "metadata": {
    "ExecuteTime": {
     "end_time": "2024-03-20T03:20:43.974263Z",
     "start_time": "2024-03-20T03:20:43.964740Z"
    }
   },
   "outputs": [],
   "source": [
    "sig = 1\n",
    "t = 0.005"
   ]
  },
  {
   "cell_type": "code",
   "execution_count": 44,
   "metadata": {},
   "outputs": [],
   "source": [
    "def run_cross_fold_validation(model, train_X, train_y, seed):\n",
    "    \n",
    "    \"\"\" \n",
    "    Split your training data at that round into 5 different sets of equal size (or as equal as they can be). \n",
    "    Train a model using 4 of the 5 sets. Assess that model on the remaining set. \n",
    "    Continue this process until each set has been used for assessment once. \n",
    "    Add up the errors from all 5 folds and divide by the total number of observed instances. \n",
    "    This will yield an average error that will not be severely biased by imbalances in the fold sizes. \n",
    "    This will give you a good estimate of the model performance given the data you have available to you at that round. \n",
    "    This will not necessarily give you an estimate of generalization performance\n",
    "  \"\"\"\n",
    "    # Initialize KFold with 5 splits\n",
    "    kf = KFold(n_splits=5, shuffle=True, random_state=seed)\n",
    "    fold_accuracies = []\n",
    "\n",
    "    for train_idx, test_idx in kf.split(train_X):\n",
    "        # Split the data into training and testing sets for this fold\n",
    "        X_train_fold, X_test_fold = train_X[train_idx], train_X[test_idx]\n",
    "        y_train_fold, y_test_fold = train_y[train_idx], train_y[test_idx]\n",
    "\n",
    "        # Train a model on the training fold\n",
    "        model.fit(X_train_fold, y_train_fold)\n",
    "\n",
    "        # Predict on the testing fold\n",
    "        y_pred_fold = model.predict(X_test_fold)\n",
    "\n",
    "        # Calculate accuracy for this fold\n",
    "        fold_accuracy = accuracy_score(y_test_fold, y_pred_fold)\n",
    "        fold_accuracies.append(fold_accuracy)  # Store error rate\n",
    "\n",
    "    # Calculate average error across all folds\n",
    "    avg_acc = sum(fold_accuracies) / len(fold_accuracies)\n",
    "    return avg_acc"
   ]
  },
  {
   "cell_type": "code",
   "execution_count": 45,
   "metadata": {
    "ExecuteTime": {
     "end_time": "2024-03-20T03:20:45.948009Z",
     "start_time": "2024-03-20T03:20:43.975088Z"
    }
   },
   "outputs": [],
   "source": [
    "# Creating a weight matrix\n",
    "def get_weight_matrix(d):\n",
    "    mat = np.zeros((len(d),len(d)))\n",
    "    for i in range(len(d)):\n",
    "        for j in range(673):\n",
    "            dist = np.linalg.norm(d[i]-d[j])**2\n",
    "            w = math.exp(-dist/(sig*sig))\n",
    "            if w > t:\n",
    "                mat[i,j] = w\n",
    "    return mat\n",
    "weight_mat = get_weight_matrix(features)"
   ]
  },
  {
   "cell_type": "code",
   "execution_count": 46,
   "metadata": {
    "ExecuteTime": {
     "end_time": "2024-03-20T03:20:45.957166Z",
     "start_time": "2024-03-20T03:20:45.949164Z"
    }
   },
   "outputs": [],
   "source": [
    "# Getting ∆ = D − W which is the Laplacian Matrix\n",
    "def laplacian(W):\n",
    "    d = []\n",
    "    for i in range(len(W)):\n",
    "        d.append(np.sum(W[i]))\n",
    "    D = np.diag(d)\n",
    "    return (D-W)\n",
    "delta = laplacian(weight_mat)"
   ]
  },
  {
   "cell_type": "code",
   "execution_count": 47,
   "metadata": {
    "ExecuteTime": {
     "end_time": "2024-03-20T03:20:45.964945Z",
     "start_time": "2024-03-20T03:20:45.958440Z"
    }
   },
   "outputs": [],
   "source": [
    "# Reorganize the Laplacian Matrix according to the groups of labeled and unlabeled instances\n",
    "def laplacian_lu(labeled, unlabeled):\n",
    "    mat = np.zeros((len(delta),len(delta)))\n",
    "    a = len(labeled)\n",
    "    for i in range(len(delta)):\n",
    "        for j in range(len(delta)):\n",
    "            if (i<a) and (j<a):\n",
    "                mat[i,j] = delta[labeled[i],labeled[j]]\n",
    "            elif (i<a) and (j>=a):\n",
    "                mat[i,j] = delta[labeled[i], unlabeled[j-a]]\n",
    "            elif (i>=a) and (j<a):\n",
    "                mat[i,j] = delta[unlabeled[i-a], labeled[j]]\n",
    "            else:\n",
    "                mat[i,j] = delta[unlabeled[i-a], unlabeled[j-a]]\n",
    "    return mat\n"
   ]
  },
  {
   "cell_type": "code",
   "execution_count": 48,
   "metadata": {
    "ExecuteTime": {
     "end_time": "2024-03-20T03:20:45.977829Z",
     "start_time": "2024-03-20T03:20:45.966785Z"
    }
   },
   "outputs": [],
   "source": [
    "# Compute the vector that contains minimum energy solution for the unlabeled instances\n",
    "def f_u(lu, f_l):\n",
    "    a = len(f_l)\n",
    "    preds = -np.matmul(np.matmul(np.linalg.inv(lu[a:,a:]), lu[a:, :a]), f_l)\n",
    "    return preds\n",
    "#\n",
    "def risk(f):\n",
    "    s = 0\n",
    "    for i in f:\n",
    "        s += min(i, 1-i)\n",
    "    return s"
   ]
  },
  {
   "cell_type": "code",
   "execution_count": 49,
   "metadata": {
    "ExecuteTime": {
     "end_time": "2024-03-20T03:20:45.997598Z",
     "start_time": "2024-03-20T03:20:45.990521Z"
    }
   },
   "outputs": [],
   "source": [
    "# Compute the expected estimated risk if we were to request the label for node k\n",
    "def risk_hat(lu, f_l, ind, y_k, labeled, unlabeled): \n",
    "    a = len(f_l)\n",
    "    if ind != 0:\n",
    "        replacer_col = np.copy(lu[:,a+ind])\n",
    "        replaced_col = np.copy(lu[:, a])\n",
    "        lu[:,a] = replacer_col\n",
    "        lu[:, a+ind] = replaced_col\n",
    "        replacer_row = np.copy(lu[a+ind, :])\n",
    "        replaced_row = np.copy(lu[a, :])\n",
    "        lu[a, :] = replacer_row\n",
    "        lu[a+ind, :] = replaced_row\n",
    "    l_new = []\n",
    "    for i in f_l:\n",
    "        l_new.append(i)\n",
    "    l_new.append(y_k)\n",
    "    l_new = np.array(l_new)\n",
    "    u_new = f_u(lu, l_new)\n",
    "    return risk(u_new)"
   ]
  },
  {
   "cell_type": "code",
   "execution_count": 50,
   "metadata": {
    "ExecuteTime": {
     "end_time": "2024-03-20T03:20:46.005688Z",
     "start_time": "2024-03-20T03:20:45.998753Z"
    }
   },
   "outputs": [],
   "source": [
    "# Get the instance that minimizes the future estimated risk\n",
    "def least_risk(lu, f_l, f_u, labeled, unlabeled):\n",
    "    risks = [-1, math.inf]\n",
    "    for ind, k in enumerate(unlabeled):\n",
    "        risk = (1-f_u[ind])*risk_hat(lu, f_l, ind, 0, labeled, unlabeled) + f_u[ind]*risk_hat(lu, f_l, ind, 1, labeled, unlabeled)\n",
    "        if risk < risks[1]:\n",
    "            risks = [k, risk]\n",
    "    return risks[0]"
   ]
  },
  {
   "cell_type": "code",
   "execution_count": 51,
   "metadata": {
    "ExecuteTime": {
     "start_time": "2024-03-20T03:20:43.896Z"
    }
   },
   "outputs": [],
   "source": [
    "def ZLG(dataset, seed, features, labels):\n",
    "    cross_fold_performance = []\n",
    "    \n",
    "    # Take initial 20% data (random observations)\n",
    "    training_size = len(delta)//5\n",
    "    labeled_indices = np.random.choice(len(delta), training_size, replace= False)\n",
    "\n",
    "    unlabeled_indices = []\n",
    "    for i in range(len(delta)):\n",
    "        if not(i in labeled_indices):\n",
    "            unlabeled_indices.append(i)\n",
    "\n",
    "    \n",
    "    sample_data_X, sample_data_y  = features[labeled_indices], labels[labeled_indices]\n",
    "    remaining_data = dataset[unlabeled_indices]\n",
    "    remaining_data_X, remaining_data_y = features[unlabeled_indices], labels[unlabeled_indices]\n",
    "\n",
    "    base_learner_model = RandomForestClassifier(random_state=None)\n",
    "    # Run until all observations are added:\n",
    "    while len(remaining_data_X) > 0:\n",
    "        cv_accuracy = run_cross_fold_validation(base_learner_model, sample_data_X, sample_data_y, seed)\n",
    "        cross_fold_performance.append(cv_accuracy)\n",
    "\n",
    "        lu = laplacian_lu(labeled_indices, unlabeled_indices)\n",
    "        predictions = f_u(lu, sample_data_y)\n",
    "        # Select an instance to add \n",
    "        instance_to_add = least_risk(lu, sample_data_y, predictions, labeled_indices, unlabeled_indices)\n",
    "        # Get the data of the instance to add\n",
    "        instance_X, instance_y = features[instance_to_add], labels[instance_to_add]\n",
    "        # Add the queried instance to the training set\n",
    "        sample_data_X = np.append(sample_data_X, [instance_X], axis=0)\n",
    "        sample_data_y = np.append(sample_data_y, [instance_y], axis=0)\n",
    "        labeled_indices = np.append(labeled_indices, instance_to_add)\n",
    "        unlabeled_indices.remove(instance_to_add)\n",
    "    \n",
    "        # Remove the queried instance from the pool\n",
    "        remaining_data = dataset[unlabeled_indices]\n",
    "        remaining_data_X, remaining_data_y = features[unlabeled_indices], labels[unlabeled_indices]\n",
    "        # Retrain the model on the updated training set\n",
    "        base_learner_model.fit(sample_data_X, sample_data_y)\n",
    "    return cross_fold_performance\n"
   ]
  },
  {
   "cell_type": "code",
   "execution_count": 52,
   "metadata": {},
   "outputs": [
    {
     "name": "stderr",
     "output_type": "stream",
     "text": [
      "100%|██████████| 10/10 [2:22:37<00:00, 855.70s/it] \n"
     ]
    }
   ],
   "source": [
    "# Running ZLG\n",
    "cross_fold_accuracies_ZLG = []\n",
    "\n",
    "for seed in tqdm(random_seeds):\n",
    "    cv_acc = ZLG(data_array, seed, features, labels)\n",
    "    cross_fold_accuracies_ZLG.append(cv_acc)\n",
    "\n",
    "avg_acc_ZLG = np.mean(cross_fold_accuracies_ZLG, axis=0)\n",
    "savetxt('avg_acc_ZLG.csv', avg_acc_ZLG, delimiter=',')\n",
    "std_acc_ZLG = np.std(cross_fold_accuracies_ZLG, axis=0)\n",
    "savetxt('std_acc_ZLG.csv', std_acc_ZLG, delimiter=',')\n",
    "x_values_ZLG = list(range(len(cv_acc)))\n",
    "savetxt('x_vals_ZLG.csv', x_values_ZLG, delimiter=',')"
   ]
  },
  {
   "cell_type": "code",
   "execution_count": 53,
   "metadata": {
    "ExecuteTime": {
     "start_time": "2024-03-20T03:20:43.897Z"
    }
   },
   "outputs": [
    {
     "name": "stderr",
     "output_type": "stream",
     "text": [
      "/tmp/ipykernel_31718/778064633.py:5: UserWarning: linestyle is redundantly defined by the 'linestyle' keyword argument and the fmt string \"-o\" (-> linestyle='-'). The keyword argument will take precedence.\n",
      "  plt.errorbar(x_values_ZLG, avg_acc_ZLG, yerr=std_acc_ZLG, fmt='-o', linestyle='-', label=\"ZLG\")\n"
     ]
    },
    {
     "data": {
      "image/png": "[encoded data removed]",
      "text/plain": [
       "<Figure size 720x432 with 1 Axes>"
      ]
     },
     "metadata": {
      "needs_background": "light"
     },
     "output_type": "display_data"
    }
   ],
   "source": [
    "import matplotlib.pyplot as plt\n",
    "\n",
    "plt.figure(figsize=(10, 6))\n",
    "\n",
    "plt.errorbar(x_values_ZLG, avg_acc_ZLG, yerr=std_acc_ZLG, fmt='-o', linestyle='-', label=\"ZLG\")\n",
    "\n",
    "plt.title('Cross Validation Accuracy trends using ZLG')\n",
    "plt.xlabel('Number of instances in the training set ')\n",
    "plt.ylabel('Accuracy Score')\n",
    "plt.legend()\n",
    "plt.grid(True)\n",
    "plt.show()\n"
   ]
  },
  {
   "cell_type": "markdown",
   "metadata": {},
   "source": [
    "### 2b. Comment on the results in part 2a compare against any of the Type I algorithms implemented in previous homework assignments\n",
    "### Comparing to Minimization of Expected Risk (MER)"
   ]
  },
  {
   "cell_type": "code",
   "execution_count": 54,
   "metadata": {},
   "outputs": [],
   "source": [
    "def calc_expected_risk(model, old_train_X, old_train_y, unlabeled_pool_X, old_probs):\n",
    "    labels = [0., 1.]\n",
    "    # Store (index, label) as key and probabilities as values\n",
    "    probabilities = dict()\n",
    "\n",
    "    for index, instance in enumerate(unlabeled_pool_X):\n",
    "        # Delete this instance from the unlabeled pool\n",
    "        updated_unlabeled_pool_X = np.delete(unlabeled_pool_X, index, axis=0)\n",
    "        if updated_unlabeled_pool_X.shape[0] == 0:\n",
    "            # Skip this iteration if there are no samples left\n",
    "            continue\n",
    "        # Add this instance to the train set\n",
    "        new_train_X = np.append(old_train_X, instance.reshape(1, -1), axis=0)\n",
    "        # Loop through every label for this instance\n",
    "        for label in labels:\n",
    "            # Train the model on the updated train_X and train_y\n",
    "            new_train_y = np.append(old_train_y, np.array([label]), axis=0)\n",
    "            model.fit(new_train_X, new_train_y)\n",
    "            # Get probabilities for the every instance except the instance we are working with \n",
    "            probs = model.predict_proba(updated_unlabeled_pool_X)\n",
    "            probs = np.insert(probs, index, 1.0, axis = 0)\n",
    "            max_probs = np.max(probs, axis=1)\n",
    "            # Store the probabilities obtained for this specific pair of instance and label\n",
    "            probabilities[(index, label)] = max_probs\n",
    "    \n",
    "    all_ER = []  \n",
    "    for i, pred in enumerate(old_probs):\n",
    "        summand = 0\n",
    "        for j in range(len(pred)):\n",
    "            key = (i, j)\n",
    "            val_class = sum(1 - row for row in probabilities[key])\n",
    "            summand += val_class * pred[j]\n",
    "        all_ER.append(summand)\n",
    "\n",
    "    query_idx = np.argmin(all_ER)\n",
    "    return query_idx"
   ]
  },
  {
   "cell_type": "code",
   "execution_count": 55,
   "metadata": {},
   "outputs": [],
   "source": [
    "def minimizing_expected_risk(dataset, seed):\n",
    "    cross_fold_performance = []\n",
    "\n",
    "    sample_data, remaining_data = train_test_split(dataset, test_size=0.8, random_state=seed)\n",
    "    sample_data_X, sample_data_y = sample_data[:, :-1], sample_data[:, -1]\n",
    "    remaining_data_X, remaining_data_y = remaining_data[:, :-1], remaining_data[:, -1]\n",
    "\n",
    "    # Initialize and fit the model\n",
    "    base_learner_model = RandomForestClassifier(n_estimators = 5, random_state=42)\n",
    "    base_learner_model.fit(sample_data_X, sample_data_y)\n",
    "   \n",
    "    # Run until all observations are added:\n",
    "    while len(remaining_data) > 1:\n",
    "        # print(\"before\", len(remaining_data))\n",
    "        \n",
    "        cv_accuracy = run_cross_fold_validation(base_learner_model, sample_data_X, sample_data_y, seed)\n",
    "        cross_fold_performance.append(cv_accuracy)\n",
    "        \n",
    "        # Select an instance to add = hard_vote_entropy()\n",
    "        probs = base_learner_model.predict_proba(remaining_data_X)\n",
    "        instance_to_add = calc_expected_risk(base_learner_model, sample_data_X, sample_data_y, remaining_data_X, probs)\n",
    "        \n",
    "        # Get the data of the instance to add\n",
    "        instance_X, instance_y = remaining_data_X[instance_to_add], remaining_data_y[instance_to_add]\n",
    "        # Add the queried instance to the training set\n",
    "        sample_data_X = np.append(sample_data_X, [instance_X], axis=0)\n",
    "        sample_data_y = np.append(sample_data_y, [instance_y], axis=0)\n",
    "        \n",
    "        # Remove the queried instance from the pool\n",
    "        remaining_data = np.delete(remaining_data, instance_to_add, axis=0)\n",
    "        remaining_data_X, remaining_data_y = remaining_data[:, :-1], remaining_data[:, -1]\n",
    "        remaining_indices = list(range(len(remaining_data_X)))\n",
    "        # print(\"after\", len(remaining_data))\n",
    "        \n",
    "    return cross_fold_performance # length 120"
   ]
  },
  {
   "cell_type": "code",
   "execution_count": 56,
   "metadata": {},
   "outputs": [
    {
     "name": "stderr",
     "output_type": "stream",
     "text": [
      "100%|██████████| 10/10 [3:41:50<00:00, 1331.04s/it] \n"
     ]
    }
   ],
   "source": [
    "# Running MER\n",
    "cross_fold_accuracies_MER = []\n",
    "\n",
    "for seed in tqdm(random_seeds):\n",
    "    cv_acc = minimizing_expected_risk(data_array, seed)\n",
    "    cross_fold_accuracies_MER.append(cv_acc)\n",
    "  \n",
    "avg_acc_MER = np.mean(cross_fold_accuracies_MER, axis=0)\n",
    "savetxt('avg_acc_MER.csv', avg_acc_MER, delimiter=',')\n",
    "std_acc_MER = np.std(cross_fold_accuracies_MER, axis=0)\n",
    "savetxt('std_acc_MER.csv', std_acc_MER, delimiter=',')\n",
    "x_values_MER = list(range(len(cv_acc)))\n",
    "savetxt('x_vals_MER.csv', x_values_MER, delimiter=',')\n"
   ]
  },
  {
   "cell_type": "code",
   "execution_count": 57,
   "metadata": {},
   "outputs": [
    {
     "name": "stderr",
     "output_type": "stream",
     "text": [
      "/tmp/ipykernel_31718/1541594086.py:3: UserWarning: linestyle is redundantly defined by the 'linestyle' keyword argument and the fmt string \"-o\" (-> linestyle='-'). The keyword argument will take precedence.\n",
      "  plt.errorbar(x_values_ZLG, avg_acc_ZLG, yerr=std_acc_ZLG, fmt='-o', linestyle='-', label=\"ZLG\")\n",
      "/tmp/ipykernel_31718/1541594086.py:4: UserWarning: linestyle is redundantly defined by the 'linestyle' keyword argument and the fmt string \"-o\" (-> linestyle='-'). The keyword argument will take precedence.\n",
      "  plt.errorbar(x_values_MER, avg_acc_MER, yerr=std_acc_MER, fmt='-o', linestyle='-', label=\"MER\")\n"
     ]
    },
    {
     "data": {
      "image/png": "[encoded data removed]",
      "text/plain": [
       "<Figure size 720x432 with 1 Axes>"
      ]
     },
     "metadata": {
      "needs_background": "light"
     },
     "output_type": "display_data"
    }
   ],
   "source": [
    "plt.figure(figsize=(10, 6))\n",
    "\n",
    "plt.errorbar(x_values_ZLG, avg_acc_ZLG, yerr=std_acc_ZLG, fmt='-o', linestyle='-', label=\"ZLG\")\n",
    "plt.errorbar(x_values_MER, avg_acc_MER, yerr=std_acc_MER, fmt='-o', linestyle='-', label=\"MER\")\n",
    "plt.title('Cross Validation Accuracy Trends using MER and ZLG')\n",
    "plt.xlabel('Number of Instances in the Training Set')\n",
    "plt.ylabel('Accuracy Score')\n",
    "plt.legend()\n",
    "plt.grid(True)\n",
    "plt.show()"
   ]
  }
 ],
 "metadata": {
  "celltoolbar": "Raw Cell Format",
  "kernelspec": {
   "display_name": "Python 3 (ipykernel)",
   "language": "python",
   "name": "python3"
  },
  "language_info": {
   "codemirror_mode": {
    "name": "ipython",
    "version": 3
   },
   "file_extension": ".py",
   "mimetype": "text/x-python",
   "name": "python",
   "nbconvert_exporter": "python",
   "pygments_lexer": "ipython3",
   "version": "3.9.13"
  },
  "vscode": {
   "interpreter": {
    "hash": "70d57c135da11913b2ad31fa6150ab201732e694e7c1a956b2909783da6a3273"
   }
  }
 },
 "nbformat": 4,
 "nbformat_minor": 2
}
