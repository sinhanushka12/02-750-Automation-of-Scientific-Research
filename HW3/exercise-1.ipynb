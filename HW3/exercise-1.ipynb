{
 "cells": [
  {
   "cell_type": "markdown",
   "metadata": {},
   "source": [
    "# 02-750 HW 3 \n",
    "## Exercise 1\n",
    "### Anushka Sinha (anushka3)"
   ]
  },
  {
   "cell_type": "markdown",
   "metadata": {},
   "source": [
    "### Imports"
   ]
  },
  {
   "cell_type": "code",
   "execution_count": 67,
   "metadata": {},
   "outputs": [],
   "source": [
    "import pandas as pd \n",
    "import numpy as np\n",
    "import math\n",
    "import random\n",
    "from tqdm import tqdm\n",
    "from sklearn.ensemble import RandomForestRegressor\n",
    "from sklearn.metrics import mean_squared_error\n",
    "from sklearn.utils import shuffle\n",
    "from sklearn.model_selection import train_test_split\n",
    "import matplotlib.pyplot as plt\n"
   ]
  },
  {
   "cell_type": "markdown",
   "metadata": {},
   "source": [
    "### Data"
   ]
  },
  {
   "cell_type": "code",
   "execution_count": 68,
   "metadata": {},
   "outputs": [],
   "source": [
    "data = pd.read_csv(\"ex1_data.csv\")\n",
    "shuffled_data = shuffle(data, random_state=42)\n",
    "data_array = shuffled_data.to_numpy()"
   ]
  },
  {
   "cell_type": "code",
   "execution_count": 69,
   "metadata": {},
   "outputs": [
    {
     "data": {
      "text/plain": [
       "[50, 19, 6, 77, 40, 60, 34, 22, 86, 80]"
      ]
     },
     "execution_count": 69,
     "metadata": {},
     "output_type": "execute_result"
    }
   ],
   "source": [
    "random_seeds = []\n",
    "for i in range(10):\n",
    "    random.seed(100*i)\n",
    "    random_seeds.append(random.randint(1, 100))\n",
    "random_seeds"
   ]
  },
  {
   "cell_type": "markdown",
   "metadata": {},
   "source": [
    "### 1a. Implement a Design of Experiments (DOE) strategy of your choice.  Generate a plot comparing the performance (and standard deviation) on unobserved instances between your DOE strategy against passive learning and uncertainty sampling (Exercise 3 of Homework 1) after 30 observations across 10 simulations."
   ]
  },
  {
   "cell_type": "markdown",
   "metadata": {},
   "source": [
    "### DOE"
   ]
  },
  {
   "cell_type": "code",
   "execution_count": 71,
   "metadata": {},
   "outputs": [],
   "source": [
    "# Create 100000 combinations of size k from the data\n",
    "def generate_random_sets(dataset_array, k):\n",
    "    size_of_data = len(dataset_array)\n",
    "    num_combinations = 1000000\n",
    "    indices_set_30 = set()\n",
    "    while len(indices_set_30) < num_combinations:\n",
    "        indices_set_30.add(tuple(np.random.choice(size_of_data, k, replace=False)))\n",
    "    return indices_set_30\n",
    "# Get 100000 sets of 30 \n",
    "sets_of_30 = generate_random_sets(data_array, 30)\n",
    "\n",
    "# Calculate the D-optimality \n",
    "def calc_D_optimality(X_samples):\n",
    "    prod = np.matmul(X_samples.T, X_samples)\n",
    "    det = np.linalg.det(prod)\n",
    "    return det \n",
    "\n",
    "# Get the set of size k that maximizes the D-optimality\n",
    "def DOE(dataset_array, sets_of_k):\n",
    "    max_det = 0\n",
    "    selected_set = None \n",
    "    for indices in sets_of_k:\n",
    "        k_from_data = dataset_array[indices, :-1]\n",
    "        current_set = indices\n",
    "        current_det = calc_D_optimality(k_from_data)\n",
    "        if current_det > max_det:\n",
    "            max_det = current_det\n",
    "            selected_set = current_set\n",
    "    return selected_set\n",
    "\n",
    "# Use this function to run D-optimality DOE simulations for sets of size k \n",
    "def run_simulations_DOE(dataset_array, sets, seed):\n",
    "    all_indices = np.arange(len(dataset_array))\n",
    "    # Get the set that maximizes the D-optimality\n",
    "    best_set = DOE(dataset_array, sets)\n",
    "    train_X = dataset_array[best_set, :-1]\n",
    "    train_y = dataset_array[best_set, -1]\n",
    "    # Get the set that is not present in the best set\n",
    "    test_indices = np.setdiff1d(all_indices, best_set)\n",
    "    test_X = dataset_array[test_indices, :-1]\n",
    "    test_y = dataset_array[test_indices, -1]\n",
    "    model = RandomForestRegressor(n_estimators=100, max_depth=10, random_state=seed)\n",
    "    model.fit(train_X, train_y)\n",
    "    # Get predictions on the indices that are not in best set\n",
    "    y_pred = model.predict(test_X)\n",
    "    mse = mean_squared_error(test_y, y_pred)\n",
    "    return mse\n",
    "# run_simulations_DOE(data_array, sets_of_30, 20)"
   ]
  },
  {
   "cell_type": "code",
   "execution_count": 72,
   "metadata": {},
   "outputs": [
    {
     "name": "stderr",
     "output_type": "stream",
     "text": [
      "100%|██████████| 10/10 [01:15<00:00,  7.60s/it]"
     ]
    },
    {
     "name": "stdout",
     "output_type": "stream",
     "text": [
      "The average MSE score using DOE is  2.493079890136789\n"
     ]
    },
    {
     "name": "stderr",
     "output_type": "stream",
     "text": [
      "\n"
     ]
    }
   ],
   "source": [
    "# Running DOE\n",
    "sets_of_30 = generate_random_sets(data_array, 30)\n",
    "mse_scores_all_seeds_DOE = []\n",
    "\n",
    "for seed in tqdm(random_seeds):\n",
    "    mse_score = run_simulations_DOE(data_array, sets_of_30, seed)\n",
    "    mse_scores_all_seeds_DOE.append(mse_score)\n",
    "avg_mse_DOE = np.mean(mse_scores_all_seeds_DOE, axis=0)\n",
    "std_mse_DOE = np.std(mse_scores_all_seeds_DOE, axis=0)\n",
    "print(\"The average MSE score using DOE is \", avg_mse_DOE)"
   ]
  },
  {
   "cell_type": "markdown",
   "metadata": {},
   "source": [
    "### Activer Learning - Uncertainty Sampling"
   ]
  },
  {
   "cell_type": "code",
   "execution_count": 73,
   "metadata": {},
   "outputs": [],
   "source": [
    "def sigma_squared(predictions, true_vals, num_features):\n",
    "    diff_sqrd = np.sum((true_vals - predictions) ** 2)\n",
    "    den = len(true_vals) - num_features - 1\n",
    "    return diff_sqrd/den\n",
    "\n",
    "def calc_variances(train_X, test_x, sig_sqr):\n",
    "    # Calculate (X'X)^-1\n",
    "    XtX_inv = np.linalg.inv(train_X.T @ train_X)\n",
    "    variances = []\n",
    "    for i in test_x:\n",
    "        prod = i @ (XtX_inv) @ (i.T)\n",
    "        prod = sig_sqr * prod\n",
    "        variances.append(prod)\n",
    "    return variances\n",
    "\n",
    "def regression_active_learning(d, seed):\n",
    "    total_length = d.shape[0]\n",
    "    # Target legnth is 30% of the data\n",
    "    target_length = int(total_length * 0.3)  \n",
    "\n",
    "    # Start with 10% of the data\n",
    "    indices = np.arange(total_length)\n",
    "    selected_indices, remaining_indices = train_test_split(indices, test_size=0.9, random_state=seed)\n",
    "\n",
    "    # Run the loop until the sample data includes 30% of the original data\n",
    "    while len(selected_indices) < target_length:\n",
    "        # Prepare training and testing sets\n",
    "        X_train, y_train = d[selected_indices, :-1], d[selected_indices, -1]\n",
    "        X_test, y_test = d[remaining_indices, :-1], d[remaining_indices, -1]\n",
    "\n",
    "        # Training the model\n",
    "        model = RandomForestRegressor(random_state=seed)\n",
    "        model.fit(X_train, y_train)\n",
    "        train_preds = model.predict(X_train)\n",
    "\n",
    "        # Calculate sigma squared\n",
    "        sig_sqr = sigma_squared(train_preds, y_train, X_train.shape[1])\n",
    "\n",
    "        # Calculate variances for remaining data\n",
    "        variances = calc_variances(X_train, X_test, sig_sqr)\n",
    "\n",
    "        # Get the index of the highest variance\n",
    "        highest_variance_index = np.argmax(variances)\n",
    "        selected_indices = np.append(selected_indices, remaining_indices[highest_variance_index])\n",
    "\n",
    "        # Update the remaining indices\n",
    "        remaining_indices = np.delete(remaining_indices, highest_variance_index)\n",
    "\n",
    "    # Final training with the selected indices\n",
    "    train_X, train_y = d[selected_indices, :-1], d[selected_indices, -1]\n",
    "    test_indices = np.setdiff1d(indices, selected_indices)\n",
    "    test_X, test_y = d[test_indices, :-1], d[test_indices, -1]\n",
    "\n",
    "    model.fit(train_X, train_y)\n",
    "    y_pred = model.predict(test_X)\n",
    "    mse = mean_squared_error(test_y, y_pred)\n",
    "    return mse"
   ]
  },
  {
   "cell_type": "code",
   "execution_count": 74,
   "metadata": {},
   "outputs": [
    {
     "name": "stderr",
     "output_type": "stream",
     "text": [
      "100%|██████████| 10/10 [00:10<00:00,  1.06s/it]"
     ]
    },
    {
     "name": "stdout",
     "output_type": "stream",
     "text": [
      "The average MSE score using uncertainty sampling (active learning) is  3.1555567717791027\n"
     ]
    },
    {
     "name": "stderr",
     "output_type": "stream",
     "text": [
      "\n"
     ]
    }
   ],
   "source": [
    "# Running Active Learning \n",
    "mse_scores_all_seeds_uncertainty_sampling = []\n",
    "\n",
    "for seed in tqdm(random_seeds):\n",
    "    mse_score = regression_active_learning(data_array, seed)\n",
    "    mse_scores_all_seeds_uncertainty_sampling.append(mse_score)\n",
    "avg_mse_uncertainty_sampling = np.mean(mse_scores_all_seeds_uncertainty_sampling, axis=0)\n",
    "std_mse_uncertainty_sampling = np.std(mse_scores_all_seeds_uncertainty_sampling, axis=0)\n",
    "print(\"The average MSE score using uncertainty sampling (active learning) is \", avg_mse_uncertainty_sampling)"
   ]
  },
  {
   "cell_type": "markdown",
   "metadata": {},
   "source": [
    "### Passive Learning "
   ]
  },
  {
   "cell_type": "code",
   "execution_count": 75,
   "metadata": {},
   "outputs": [],
   "source": [
    "def regression_passive_learning(d, seed):\n",
    "    total_length = d.shape[0]\n",
    "    # Target legnth is 30% of the data\n",
    "    target_length = int(total_length * 0.3) \n",
    "\n",
    "    # Start with 10% of the data\n",
    "    indices = np.arange(total_length)\n",
    "    selected_indices, remaining_indices = train_test_split(indices, test_size=0.9, random_state=seed)\n",
    "\n",
    "    model = RandomForestRegressor(random_state=seed)\n",
    "\n",
    "    while len(selected_indices) < target_length:\n",
    "        # Randomly select an index to add\n",
    "        idx_to_add = np.random.choice(remaining_indices, 1, replace=False)\n",
    "        selected_indices = np.append(selected_indices, idx_to_add)\n",
    "\n",
    "        # Update the remaining indices\n",
    "        remaining_indices = np.delete(remaining_indices, np.where(remaining_indices == idx_to_add))\n",
    "\n",
    "    # Final training with the selected indices\n",
    "    train_X, train_y = d[selected_indices, :-1], d[selected_indices, -1]\n",
    "    test_indices = np.setdiff1d(indices, selected_indices)\n",
    "    test_X, test_y = d[test_indices, :-1], d[test_indices, -1]\n",
    "\n",
    "    model.fit(train_X, train_y)\n",
    "    y_pred = model.predict(test_X)\n",
    "    mse = mean_squared_error(test_y, y_pred)\n",
    "    return mse"
   ]
  },
  {
   "cell_type": "code",
   "execution_count": 76,
   "metadata": {},
   "outputs": [
    {
     "name": "stderr",
     "output_type": "stream",
     "text": [
      "100%|██████████| 10/10 [00:00<00:00, 19.76it/s]"
     ]
    },
    {
     "name": "stdout",
     "output_type": "stream",
     "text": [
      "The average MSE score using passive learning is  1.9680877095879397\n"
     ]
    },
    {
     "name": "stderr",
     "output_type": "stream",
     "text": [
      "\n"
     ]
    }
   ],
   "source": [
    "# Running Passive Learning \n",
    "mse_scores_all_seeds_passive_learning = []\n",
    "\n",
    "for seed in tqdm(random_seeds):\n",
    "    mse_score = regression_passive_learning(data_array, seed)\n",
    "    mse_scores_all_seeds_passive_learning.append(mse_score)\n",
    "avg_mse_passive_learning = np.mean(mse_scores_all_seeds_passive_learning, axis=0)\n",
    "std_acc_passive_learning = np.std(mse_scores_all_seeds_passive_learning, axis=0)\n",
    "print(\"The average MSE score using passive learning is \", avg_mse_passive_learning)"
   ]
  },
  {
   "cell_type": "code",
   "execution_count": 79,
   "metadata": {},
   "outputs": [
    {
     "data": {
      "image/png": "[encoded data removed]",
      "text/plain": [
       "<Figure size 640x480 with 1 Axes>"
      ]
     },
     "metadata": {},
     "output_type": "display_data"
    }
   ],
   "source": [
    "methods = ['DOE', 'Active Learning', 'Passive Learning']\n",
    "mse_means = [avg_mse_DOE, avg_mse_uncertainty_sampling, avg_mse_passive_learning]  \n",
    "mse_stds = [std_mse_DOE, std_mse_uncertainty_sampling, std_acc_passive_learning] \n",
    "x_pos = np.arange(len(methods))\n",
    "plt.bar(x_pos, mse_means, yerr=mse_stds, align='center', alpha=0.7, capsize=10, color=['red', 'green', 'blue'])\n",
    "\n",
    "\n",
    "plt.xlabel('Method')\n",
    "plt.ylabel('Mean Squared Error (MSE)')\n",
    "plt.title('MSE Comparison of DOE, Active Learning, and Passive Learning on unobserved data')\n",
    "plt.xticks(x_pos, methods)\n",
    "\n",
    "\n",
    "plt.show()"
   ]
  },
  {
   "cell_type": "markdown",
   "metadata": {},
   "source": [
    "### 1b. Run active learning simulations using uncertainty sampling and your favorite base learner on the regression dataset. For one set of simulations, initialize with 10 randomly selected instances. For another set of simulations, initialize with 10 DOE selected instances. Continue both types of simulations until 50 instances are observed. In a single plot, show the performance (and standard deviation) of predictions on the unobserved set as a function of the number of instances observed."
   ]
  },
  {
   "cell_type": "code",
   "execution_count": 86,
   "metadata": {},
   "outputs": [],
   "source": [
    "def active_learning_random_initialization(d, seed):\n",
    "    total_length = d.shape[0]\n",
    "    target_length = int(total_length * 0.5) \n",
    "    indices = np.arange(total_length)\n",
    "    # Randomly intialize the train and test set\n",
    "    selected_indices, remaining_indices = train_test_split(indices, test_size=0.9, random_state=seed)\n",
    "    mse_scores = []\n",
    "\n",
    "    # Run the active learning loop until the sample data includes 50% of the original data\n",
    "    while len(selected_indices) < target_length:\n",
    "        # Prepare training and testing sets\n",
    "        X_train, y_train = d[selected_indices, :-1], d[selected_indices, -1]\n",
    "        X_test, y_test = d[remaining_indices, :-1], d[remaining_indices, -1]\n",
    "\n",
    "        # Training the model\n",
    "        model = RandomForestRegressor(random_state=seed)\n",
    "        model.fit(X_train, y_train)\n",
    "        train_preds = model.predict(X_train)\n",
    "        y_pred = model.predict(X_test)\n",
    "        mse = mean_squared_error(y_test, y_pred)\n",
    "        mse_scores.append(mse)\n",
    "\n",
    "        # Calculate sigma squared\n",
    "        sig_sqr = sigma_squared(train_preds, y_train, X_train.shape[1])\n",
    "\n",
    "        # Calculate variances for remaining data\n",
    "        variances = calc_variances(X_train, X_test, sig_sqr)\n",
    "\n",
    "        # Get the index of the highest variance\n",
    "        highest_variance_index = np.argmax(variances)\n",
    "        selected_indices = np.append(selected_indices, remaining_indices[highest_variance_index])\n",
    "\n",
    "        # Update the remaining indices\n",
    "        remaining_indices = np.delete(remaining_indices, highest_variance_index)\n",
    "\n",
    "    return mse_scores\n"
   ]
  },
  {
   "cell_type": "code",
   "execution_count": 87,
   "metadata": {},
   "outputs": [
    {
     "name": "stderr",
     "output_type": "stream",
     "text": [
      "100%|██████████| 10/10 [00:21<00:00,  2.20s/it]"
     ]
    },
    {
     "name": "stdout",
     "output_type": "stream",
     "text": [
      "The average MSE score using active learning with random initialization is  [6.3938208  5.40302175 5.29974001 5.42507182 5.58640895 5.01563188\n",
      " 4.73029697 4.39306922 4.10334539 4.12338374 4.08987994 3.9435738\n",
      " 3.93923274 3.8950504  3.90917258 3.92526677 3.75281606 3.65309373\n",
      " 3.47595363 3.21568091 3.15555677 3.05309033 2.94984671 2.9348522\n",
      " 2.84733268 2.56962102 2.51517732 2.56547748 2.59036934 2.5747236\n",
      " 2.53845985 2.5207432  2.63499407 2.64344124 2.72595705 2.75562969\n",
      " 2.7997446  2.82816955 2.69439407 2.67601673]\n"
     ]
    },
    {
     "name": "stderr",
     "output_type": "stream",
     "text": [
      "\n"
     ]
    }
   ],
   "source": [
    "# Running active learning using random initialization\n",
    "mse_scores_random_initialization = []\n",
    "\n",
    "for seed in tqdm(random_seeds):\n",
    "    mse_score = active_learning_random_initialization(data_array, seed)\n",
    "    mse_scores_random_initialization.append(mse_score)\n",
    "avg_mse_random_ini = np.mean(mse_scores_random_initialization, axis=0)\n",
    "std_mse_random_ini = np.std(mse_scores_random_initialization, axis=0)\n",
    "print(\"The average MSE score using active learning with random initialization is \", avg_mse_random_ini)"
   ]
  },
  {
   "cell_type": "code",
   "execution_count": 89,
   "metadata": {},
   "outputs": [],
   "source": [
    "def active_learning_DOE_initialization(d, seed):\n",
    "    total_length = d.shape[0]\n",
    "    target_length = int(total_length * 0.5) \n",
    "    indices = np.arange(total_length)\n",
    "    sets_of_10 = generate_random_sets(data_array, 10)\n",
    "    # Initialize the train set based on the best set of 30 indices selected by DOE \n",
    "    selected_indices = DOE(d, sets_of_10)\n",
    "    remaining_indices = np.setdiff1d(indices, selected_indices)\n",
    "    mse_scores = []\n",
    "\n",
    "    # Run the active learning loop until the sample data includes 50% of the original data\n",
    "    while len(selected_indices) < target_length:\n",
    "        # Prepare training and testing sets\n",
    "        X_train, y_train = d[selected_indices, :-1], d[selected_indices, -1]\n",
    "        X_test, y_test = d[remaining_indices, :-1], d[remaining_indices, -1]\n",
    "\n",
    "        # Training the model\n",
    "        model = RandomForestRegressor(random_state=seed)\n",
    "        model.fit(X_train, y_train)\n",
    "        train_preds = model.predict(X_train)\n",
    "        y_pred = model.predict(X_test)\n",
    "        mse = mean_squared_error(y_test, y_pred)\n",
    "        mse_scores.append(mse)\n",
    "\n",
    "        # Calculate sigma squared\n",
    "        sig_sqr = sigma_squared(train_preds, y_train, X_train.shape[1])\n",
    "\n",
    "        # Calculate variances for remaining data\n",
    "        variances = calc_variances(X_train, X_test, sig_sqr)\n",
    "\n",
    "        # Get the index of the highest variance\n",
    "        highest_variance_index = np.argmax(variances)\n",
    "        selected_indices = np.append(selected_indices, remaining_indices[highest_variance_index])\n",
    "\n",
    "        # Update the remaining indices\n",
    "        remaining_indices = np.delete(remaining_indices, highest_variance_index)\n",
    "\n",
    "    return mse_scores\n"
   ]
  },
  {
   "cell_type": "code",
   "execution_count": 90,
   "metadata": {},
   "outputs": [
    {
     "name": "stderr",
     "output_type": "stream",
     "text": [
      "100%|██████████| 10/10 [02:55<00:00, 17.54s/it]"
     ]
    },
    {
     "name": "stdout",
     "output_type": "stream",
     "text": [
      "The average MSE score using active learning with DOE initialization is  [13.42098772 13.37556234 10.99239274  9.10014832  8.5232305   7.7627715\n",
      "  7.17252202  6.68103751  6.27420527  6.02720785  5.68669855  5.59779196\n",
      "  5.35638716  5.45536146  5.49497634  5.22011009  5.0624295   4.99943221\n",
      "  4.71131082  4.65086241  4.66197619  5.21063091  5.5909101   5.75444889\n",
      "  5.80965518  5.4619934   5.53779702  5.72259234  5.74911205  5.98048525\n",
      "  5.8288981   5.9524534   5.92856239  6.02287422  5.06675652  5.48412601\n",
      "  4.93945167  4.99286052  5.14285868  5.46257925]\n"
     ]
    },
    {
     "name": "stderr",
     "output_type": "stream",
     "text": [
      "\n"
     ]
    }
   ],
   "source": [
    "# Running active learning using DOE initialization\n",
    "mse_scores_DOE_initialization = []\n",
    "\n",
    "for seed in tqdm(random_seeds):\n",
    "    mse_score = active_learning_DOE_initialization(data_array, seed)\n",
    "    mse_scores_DOE_initialization.append(mse_score)\n",
    "avg_mse_DOE_ini = np.mean(mse_scores_DOE_initialization, axis=0)\n",
    "std_mse_DOE_ini = np.std(mse_scores_DOE_initialization, axis=0)\n",
    "print(\"The average MSE score using active learning with DOE initialization is \", avg_mse_DOE_ini)"
   ]
  },
  {
   "cell_type": "code",
   "execution_count": 91,
   "metadata": {},
   "outputs": [
    {
     "data": {
      "image/png": "[encoded data removed]",
      "text/plain": [
       "<Figure size 1000x600 with 1 Axes>"
      ]
     },
     "metadata": {},
     "output_type": "display_data"
    }
   ],
   "source": [
    "samples_added = np.arange(len(avg_mse_random_ini))\n",
    "\n",
    "plt.figure(figsize=(10, 6))\n",
    "plt.errorbar(samples_added, avg_mse_random_ini, yerr=std_mse_random_ini, label='Random Initialization', fmt='-o')\n",
    "plt.errorbar(samples_added, avg_mse_DOE_ini, yerr=std_mse_DOE_ini, label='DOE Initialization', fmt='-o')\n",
    "\n",
    "plt.xlabel('Number of Samples Added')\n",
    "plt.ylabel('Mean Squared Error (MSE)')\n",
    "plt.title('MSE vs. Number of Samples Added')\n",
    "plt.legend()\n",
    "plt.grid(True)\n",
    "plt.show()"
   ]
  }
 ],
 "metadata": {
  "kernelspec": {
   "display_name": "Python 3.9.13 ('base')",
   "language": "python",
   "name": "python3"
  },
  "language_info": {
   "codemirror_mode": {
    "name": "ipython",
    "version": 3
   },
   "file_extension": ".py",
   "mimetype": "text/x-python",
   "name": "python",
   "nbconvert_exporter": "python",
   "pygments_lexer": "ipython3",
   "version": "3.9.13"
  },
  "orig_nbformat": 4,
  "vscode": {
   "interpreter": {
    "hash": "70d57c135da11913b2ad31fa6150ab201732e694e7c1a956b2909783da6a3273"
   }
  }
 },
 "nbformat": 4,
 "nbformat_minor": 2
}
