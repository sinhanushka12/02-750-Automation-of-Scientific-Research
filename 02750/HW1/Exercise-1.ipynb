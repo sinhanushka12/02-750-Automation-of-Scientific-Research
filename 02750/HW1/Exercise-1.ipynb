{
 "cells": [
  {
   "cell_type": "markdown",
   "metadata": {},
   "source": [
    "# 02750 HW1"
   ]
  },
  {
   "cell_type": "markdown",
   "metadata": {},
   "source": [
    "## Exercise 1 Offline vs Online Learning "
   ]
  },
  {
   "cell_type": "markdown",
   "metadata": {},
   "source": [
    "#### Imports"
   ]
  },
  {
   "cell_type": "code",
   "execution_count": 8,
   "metadata": {},
   "outputs": [],
   "source": [
    "import numpy as np\n",
    "import pandas as pd\n",
    "from sklearn.model_selection import KFold\n",
    "from sklearn.ensemble import RandomForestClassifier\n",
    "from sklearn.metrics import accuracy_score\n",
    "from sklearn.utils import shuffle\n",
    "from sklearn.metrics import log_loss\n",
    "import matplotlib.pyplot as plt\n",
    "import warnings\n",
    "import random\n",
    "from sklearn.model_selection import train_test_split\n",
    "\n",
    "# To ignore all warnings:\n",
    "warnings.filterwarnings('ignore')"
   ]
  },
  {
   "cell_type": "markdown",
   "metadata": {},
   "source": [
    "#### Data "
   ]
  },
  {
   "cell_type": "code",
   "execution_count": 9,
   "metadata": {},
   "outputs": [],
   "source": [
    "column_names = ['sepal_length', 'sepal_width', 'petal_length', 'petal_width', 'species']\n",
    "data = pd.read_csv(\"iris/iris.data\", header=None, names=column_names)\n",
    "shuffled_data = shuffle(data, random_state=42)"
   ]
  },
  {
   "cell_type": "code",
   "execution_count": 10,
   "metadata": {},
   "outputs": [],
   "source": [
    "random_seeds = []\n",
    "for i in range(5):\n",
    "    random.seed(100*i)\n",
    "    random_seeds.append(random.randint(1, 10))\n"
   ]
  },
  {
   "cell_type": "markdown",
   "metadata": {},
   "source": [
    "#### Offline"
   ]
  },
  {
   "cell_type": "code",
   "execution_count": 11,
   "metadata": {},
   "outputs": [],
   "source": [
    "# Split the data set into n folds for cross-validation\n",
    "\n",
    "def offline_ml(d, a):\n",
    "    # Get the features and labels\n",
    "    features = d.iloc[:, :-1]\n",
    "    labels = d.iloc[:, -1]\n",
    "\n",
    "    # Run Cross-fold validation and collect cumulative Loss\n",
    "    cumulative_loss = 0\n",
    "    crossFold = KFold(n_splits=3, shuffle= True, random_state=a)\n",
    "    \n",
    "    for train, test in crossFold.split(features):\n",
    "        # Get the split \n",
    "        features_train, features_test = features.iloc[train], features.iloc[test]\n",
    "        labels_train, labels_test = labels.iloc[train], labels.iloc[test]\n",
    "        # Train the classifier\n",
    "        rf = RandomForestClassifier(n_estimators=100, random_state=42)\n",
    "        rf.fit(features_train, labels_train)\n",
    "        probabilities = rf.predict_proba(features_test)\n",
    "        # Calculate cross-entropy loss for this fold and add to cumulative loss\n",
    "        fold_loss = log_loss(labels_test, probabilities)\n",
    "        cumulative_loss += fold_loss\n",
    "    return cumulative_loss\n"
   ]
  },
  {
   "cell_type": "markdown",
   "metadata": {},
   "source": [
    "#### Online"
   ]
  },
  {
   "cell_type": "code",
   "execution_count": 12,
   "metadata": {},
   "outputs": [],
   "source": [
    "def online_ml(d, seed):\n",
    "    cumulative_loss = 0\n",
    "\n",
    "    # Sample 50% (initial split) of the data\n",
    "    fifty_percent_data = d.sample(frac=0.5, random_state=42)\n",
    "    remaining_data = d[~d.index.isin(fifty_percent_data.index)]\n",
    "\n",
    "    fifty_percent_data_X = fifty_percent_data.iloc[:, :-1]\n",
    "    fifty_percent_data_y = fifty_percent_data.iloc[:, -1]\n",
    "    \n",
    "    remaining_data_X = remaining_data.iloc[:, :-1]\n",
    "    remaining_data_y = remaining_data.iloc[:, -1]\n",
    "\n",
    "    # Use n-fold cross-validation to get one prediction for each instance\n",
    "    cumulative_loss_fifty_percent_data = offline_ml(fifty_percent_data, seed)\n",
    "    cumulative_loss += cumulative_loss_fifty_percent_data\n",
    "\n",
    "    # Train a model using the sampled 50% of the data\n",
    "    rf_model = RandomForestClassifier(n_estimators=100, random_state=seed)\n",
    "    rf_model.fit(fifty_percent_data_X, fifty_percent_data_y)\n",
    "    \n",
    "    # Sample 10% of the remaining data and use the trained model to get the predictions on these sampled 10% of the data\n",
    "    for i in range(5):\n",
    "    \n",
    "        sample_10_percent = remaining_data.sample(frac=0.1)\n",
    "        sample_10_percent_X, sample_10_percent_y = sample_10_percent.iloc[:, :-1], sample_10_percent.iloc[:, -1]\n",
    "\n",
    "        # Predict the 10% using the trained model \n",
    "        y_pred = rf_model.predict_proba(sample_10_percent_X)\n",
    "        loss = log_loss(sample_10_percent_y, y_pred, labels=rf_model.classes_)\n",
    "        cumulative_loss += loss\n",
    "        \n",
    "        # Update the original fifty_percent_data to include additional 10% of of the origianl data\n",
    "        fifty_percent_data = fifty_percent_data.append(sample_10_percent, ignore_index=True)\n",
    "\n",
    "        # Train the model using the updated data\n",
    "        updated_data_X, updated_data_y = fifty_percent_data.iloc[:, :-1], fifty_percent_data.iloc[:, -1]\n",
    "        rf_model.fit(updated_data_X, updated_data_y)\n",
    "        \n",
    "        # Update remaining_data\n",
    "        remaining_data = remaining_data[~remaining_data.index.isin(sample_10_percent.index)]\n",
    "        \n",
    "        \n",
    "    return cumulative_loss"
   ]
  },
  {
   "cell_type": "markdown",
   "metadata": {},
   "source": [
    "#### Plot showing the average and standard deviation of the regret "
   ]
  },
  {
   "cell_type": "code",
   "execution_count": 13,
   "metadata": {},
   "outputs": [],
   "source": [
    "# Running the Offline Simulation\n",
    "overall_results_offline = []\n",
    "for i in range(len(random_seeds)):\n",
    "    overall_results_offline.append(offline_ml(data,random_seeds[i]))\n",
    "# Running the Online Simulation\n",
    "overall_results_online = []\n",
    "for i in range(len(random_seeds)):\n",
    "    overall_results_online.append(online_ml(data, random_seeds[i]))\n"
   ]
  },
  {
   "cell_type": "code",
   "execution_count": 14,
   "metadata": {},
   "outputs": [
    {
     "data": {
      "image/png": "[encoded data removed]",
      "text/plain": [
       "<Figure size 1200x700 with 1 Axes>"
      ]
     },
     "metadata": {},
     "output_type": "display_data"
    }
   ],
   "source": [
    "import numpy as np\n",
    "import matplotlib.pyplot as plt\n",
    "\n",
    "# Get the regret \n",
    "regret = np.array(overall_results_online) - np.array(overall_results_offline)\n",
    "# Average and standard deviation of the regret \n",
    "avg_regret = np.mean(regret)\n",
    "std_regret = np.std(regret)\n",
    "\n",
    "# Get the number of simulations\n",
    "num_simulations = len(regret)\n",
    "simulation_numbers = list(range(1, num_simulations + 1))\n",
    "\n",
    "plt.figure(figsize=(12, 7))\n",
    "plt.bar(simulation_numbers, regret, capsize=5, label='Individual Regret')\n",
    "plt.bar([num_simulations + 1], [avg_regret], yerr=[std_regret], capsize=5, color='orange', label='Average Regret')\n",
    "plt.title('Regret across simulations')\n",
    "plt.xlabel('Simulation Number')\n",
    "plt.ylabel('Regret')\n",
    "plt.xticks(simulation_numbers + [num_simulations + 2], labels=simulation_numbers + ['Average'])\n",
    "y_min = min(regret.min(), avg_regret - std_regret)\n",
    "y_max = max(regret.max(), avg_regret + std_regret)\n",
    "plt.legend()\n",
    "plt.show()\n"
   ]
  }
 ],
 "metadata": {
  "kernelspec": {
   "display_name": "Python 3.9.13 ('base')",
   "language": "python",
   "name": "python3"
  },
  "language_info": {
   "codemirror_mode": {
    "name": "ipython",
    "version": 3
   },
   "file_extension": ".py",
   "mimetype": "text/x-python",
   "name": "python",
   "nbconvert_exporter": "python",
   "pygments_lexer": "ipython3",
   "version": "3.9.13"
  },
  "orig_nbformat": 4,
  "vscode": {
   "interpreter": {
    "hash": "70d57c135da11913b2ad31fa6150ab201732e694e7c1a956b2909783da6a3273"
   }
  }
 },
 "nbformat": 4,
 "nbformat_minor": 2
}
